{
 "cells": [
  {
   "cell_type": "code",
   "execution_count": null,
   "metadata": {},
   "outputs": [],
   "source": [
    "##detects when I'm close to my home and sends me a message via Telegram with the temperature.\n",
    "##a network sniffer\n",
    "##It detects when my mobile phone send a ARP package to my router (aka when I connect to my Wi-fi).\n",
    "\n",
    "\n",
    "import sys\n",
    "from scapy.all import *\n",
    "import telebot\n",
    "import gearman\n",
    "import json\n",
    "from StringIO import StringIO\n",
    "\n",
    "BUFFER_SIZE = 1024\n",
    "\n",
    "try:\n",
    "    with open(sys.argv[1]) as data_file:\n",
    "        data = json.load(data_file)\n",
    "        myPhone = data['myPhone']\n",
    "        routerIP = data['routerIP']\n",
    "        TOKEN = data['telegramBotAPIKey']\n",
    "        chatID = data['telegramChatId']\n",
    "        gearmanServer = data['gearmanServer']\n",
    "except:\n",
    "    print(\"Unexpected error:\", sys.exc_info()[0])\n",
    "    raise\n",
    "\n",
    "def getSensorData():\n",
    "    gm_client = gearman.GearmanClient([gearmanServer])\n",
    "    completed_job_request = gm_client.submit_job(\"iot.worker\", 'temp')\n",
    "    io = StringIO(completed_job_request.result)\n",
    "\n",
    "    return json.load(io)\n",
    "\n",
    "tb = telebot.TeleBot(TOKEN)\n",
    "\n",
    "def arp_display(pkt):\n",
    "    if pkt[ARP].op == 1 and pkt[ARP].hwsrc == myPhone and pkt[ARP].pdst == routerIP:\n",
    "        sensorData = getSensorData()\n",
    "        message = \"Wellcome home Gonzalo! Temperature: %s humidity: %s\" % (sensorData['temperature'], sensorData['humidity'])\n",
    "        tb.send_message(chatID, message)\n",
    "        print message\n",
    "\n",
    "print sniff(prn=arp_display, filter='arp', store=0)"
   ]
  }
 ],
 "metadata": {
  "kernelspec": {
   "display_name": "Python 3",
   "language": "python",
   "name": "python3"
  },
  "language_info": {
   "codemirror_mode": {
    "name": "ipython",
    "version": 3
   },
   "file_extension": ".py",
   "mimetype": "text/x-python",
   "name": "python",
   "nbconvert_exporter": "python",
   "pygments_lexer": "ipython3",
   "version": "3.6.4"
  }
 },
 "nbformat": 4,
 "nbformat_minor": 2
}
